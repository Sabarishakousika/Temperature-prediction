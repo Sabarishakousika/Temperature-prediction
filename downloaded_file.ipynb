{
  "nbformat": 4,
  "nbformat_minor": 0,
  "metadata": {
    "colab": {
      "provenance": [],
      "include_colab_link": true
    },
    "kernelspec": {
      "name": "python3",
      "display_name": "Python 3"
    },
    "language_info": {
      "name": "python"
    }
  },
  "cells": [
    {
      "cell_type": "markdown",
      "metadata": {
        "id": "view-in-github",
        "colab_type": "text"
      },
      "source": [
        "<a href=\"https://colab.research.google.com/github/Sabarishakousika/Temperature-prediction/blob/main/downloaded_file.ipynb\" target=\"_parent\"><img src=\"https://colab.research.google.com/assets/colab-badge.svg\" alt=\"Open In Colab\"/></a>"
      ]
    },
    {
      "cell_type": "code",
      "source": [
        "import random"
      ],
      "metadata": {
        "id": "4uzkwtEzWGuw"
      },
      "execution_count": 7,
      "outputs": []
    },
    {
      "cell_type": "code",
      "source": [
        "def genrate_random_number():\n",
        "    \"\"\"genrate a number between 1 to 100.\"\"\"\n",
        "    return random.randint(1, 100)"
      ],
      "metadata": {
        "id": "epONquFFWaTw"
      },
      "execution_count": 8,
      "outputs": []
    },
    {
      "cell_type": "code",
      "source": [
        "def input_user_value():\n",
        "    while True:\n",
        "        try:\n",
        "            guess = int(input(\"Enter your guess (1-100): \"))\n",
        "            if 1 <= guess <= 100:\n",
        "                return guess\n",
        "            else:\n",
        "                print(\"Please enter a number between 1 and 100.\")\n",
        "        except ValueError:\n",
        "            print(\"Invalid input! Please enter a number.\")"
      ],
      "metadata": {
        "id": "OnIPv4wuWdUx"
      },
      "execution_count": 9,
      "outputs": []
    },
    {
      "cell_type": "code",
      "source": [
        "def lets_play_game():\n",
        "    \"\"\"Main function to run the guessing game.\"\"\"\n",
        "    random_number = genrate_random_number()\n",
        "    attempts = 5\n",
        "\n",
        "    print(\"Welcome to the Number Guessing Game!\")\n",
        "    print(f\"You have {attempts} attempts to guess the correct number.\")\n",
        "\n",
        "    while attempts > 0:\n",
        "        guess = input_user_value()\n",
        "\n",
        "        if guess == random_number:\n",
        "            print(\"Congratulations! You guessed the number correctly.\")\n",
        "            return\n",
        "        elif guess < random_number:\n",
        "            print(\"Too low! Try again.\")\n",
        "        else:\n",
        "            print(\"Too high! Try again.\")\n",
        "\n",
        "        attempts -= 1\n",
        "        print(f\"Attempts remaining: {attempts}\")\n",
        "\n",
        "    print(f\"Game Over! The correct number was {random_number}.\")"
      ],
      "metadata": {
        "id": "Famgv0uRWf0V"
      },
      "execution_count": 10,
      "outputs": []
    },
    {
      "cell_type": "code",
      "source": [
        "# Run the game\n",
        "if __name__ == \"__main__\":\n",
        "    lets_play_game()"
      ],
      "metadata": {
        "colab": {
          "base_uri": "https://localhost:8080/"
        },
        "id": "8-LzpDhaWGyX",
        "outputId": "0ea75fea-2c6e-41d5-d919-1a0f378360c9"
      },
      "execution_count": 11,
      "outputs": [
        {
          "output_type": "stream",
          "name": "stdout",
          "text": [
            "Welcome to the Number Guessing Game!\n",
            "You have 5 attempts to guess the correct number.\n",
            "Enter your guess (1-100): 55\n",
            "Too low! Try again.\n",
            "Attempts remaining: 4\n",
            "Enter your guess (1-100): 45\n",
            "Too low! Try again.\n",
            "Attempts remaining: 3\n",
            "Enter your guess (1-100): \n",
            "Invalid input! Please enter a number.\n",
            "Enter your guess (1-100): 70\n",
            "Too high! Try again.\n",
            "Attempts remaining: 2\n",
            "Enter your guess (1-100): 65\n",
            "Too high! Try again.\n",
            "Attempts remaining: 1\n",
            "Enter your guess (1-100): 24\n",
            "Too low! Try again.\n",
            "Attempts remaining: 0\n",
            "Game Over! The correct number was 61.\n"
          ]
        }
      ]
    },
    {
      "cell_type": "code",
      "source": [
        "5"
      ],
      "metadata": {
        "id": "KqI6bHg_Whd6",
        "colab": {
          "base_uri": "https://localhost:8080/"
        },
        "outputId": "1cca8678-b1e1-4681-865b-78e824d3a885"
      },
      "execution_count": 12,
      "outputs": [
        {
          "output_type": "execute_result",
          "data": {
            "text/plain": [
              "5"
            ]
          },
          "metadata": {},
          "execution_count": 12
        }
      ]
    }
  ]
}